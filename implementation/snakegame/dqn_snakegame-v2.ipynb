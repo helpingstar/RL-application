{
 "cells": [
  {
   "cell_type": "code",
   "execution_count": 1,
   "metadata": {},
   "outputs": [],
   "source": [
    "import gymnasium as gym\n",
    "import torch.nn as nn\n",
    "import wandb\n",
    "import time\n",
    "import torch\n",
    "import torch.optim as optim\n",
    "import random\n",
    "from tqdm import tqdm\n",
    "import numpy as np\n",
    "import torch.nn.functional as F\n",
    "import gym_snakegame\n",
    "from util.wrappers.add_channel_dimension import AddChannelDimension\n",
    "from util.wrappers.divide_observation import DivideObservation\n",
    "from torch.utils.tensorboard import SummaryWriter\n",
    "from util.buffer.ReplayBuffer import ReplayBuffer"
   ]
  },
  {
   "cell_type": "code",
   "execution_count": 2,
   "metadata": {},
   "outputs": [
    {
     "name": "stdout",
     "output_type": "stream",
     "text": [
      "cuda\n"
     ]
    }
   ],
   "source": [
    "args = {\n",
    "    'env_id': 'gym_snakegame/SnakeGame-v0',\n",
    "    'env_id_short' : 'SnakeGame-v0',\n",
    "    'seed': 42,\n",
    "    'cuda': True,\n",
    "    'learning_rate' : 0.003,\n",
    "    'buffer_size' : 30000,\n",
    "    'total_timesteps' : 1000000,\n",
    "    'start_e' : 1, \n",
    "    'end_e' : 0.1, \n",
    "    'exploration_fraction' : 0.5,\n",
    "    'wandb_project_name' : \"dqn-Snakegame\",\n",
    "    'wandb_entity' : None,\n",
    "    'learning_starts' : 30000,\n",
    "    'train_frequency' : 1,\n",
    "    'batch_size' : 128,\n",
    "    'target_network_frequency' : 500,\n",
    "    'gamma' : 0.99,\n",
    "    'capture_video' : False\n",
    "    }\n",
    "\n",
    "device = torch.device(\"cuda\" if torch.cuda.is_available() and args[\"cuda\"] else \"cpu\")\n",
    "print(device)\n",
    "run_name=f\"{args['env_id_short']}_{args['seed']}_{int(time.time())}\""
   ]
  },
  {
   "cell_type": "code",
   "execution_count": 3,
   "metadata": {},
   "outputs": [],
   "source": [
    "# # input.shape : (15, 15)\n",
    "# class DQN(nn.Module):\n",
    "#     def __init__(self, env):\n",
    "#         super().__init__()        \n",
    "#         self.conv = nn.Sequential(\n",
    "#             nn.Conv2d(in_channels=1, out_channels=8, kernel_size=3, stride=1),\n",
    "#             nn.ReLU(),\n",
    "#             nn.Conv2d(in_channels=8, out_channels=16, kernel_size=3, stride=1),\n",
    "#             nn.ReLU(),\n",
    "#             nn.Conv2d(in_channels=16, out_channels=32, kernel_size=3, stride=1),\n",
    "#             nn.ReLU(),\n",
    "#             nn.Conv2d(in_channels=32, out_channels=64, kernel_size=3, stride=1),\n",
    "#             nn.ReLU()\n",
    "#         )\n",
    "\n",
    "#         self.fc = nn.Sequential(\n",
    "#             nn.Linear(in_features=64*7*7 , out_features=512),\n",
    "#             nn.ReLU(),\n",
    "#             nn.Linear(in_features=512, out_features=env.action_space.n)\n",
    "#         )\n",
    "\n",
    "#     def forward(self, x):\n",
    "#         conv_out = self.conv(x).view(x.size()[0],-1)\n",
    "#         return self.fc(conv_out)"
   ]
  },
  {
   "cell_type": "code",
   "execution_count": 4,
   "metadata": {},
   "outputs": [],
   "source": [
    "# # input.shape : (9, 9)\n",
    "# class DQN(nn.Module):\n",
    "#     def __init__(self, env):\n",
    "#         super().__init__()        \n",
    "#         self.conv = nn.Sequential(\n",
    "#             nn.Conv2d(in_channels=1, out_channels=32, kernel_size=3, stride=1),\n",
    "#             nn.ReLU(),\n",
    "#             nn.Conv2d(in_channels=32, out_channels=64, kernel_size=3, stride=1),\n",
    "#             nn.ReLU(),\n",
    "#         )\n",
    "\n",
    "#         self.fc = nn.Sequential(\n",
    "#             nn.Linear(in_features=64*5*5 , out_features=512),\n",
    "#             nn.ReLU(),\n",
    "#             nn.Linear(in_features=512, out_features=env.action_space.n)\n",
    "#         )\n",
    "\n",
    "#     def forward(self, x):\n",
    "#         conv_out = self.conv(x).view(x.size()[0],-1)\n",
    "#         return self.fc(conv_out)"
   ]
  },
  {
   "cell_type": "code",
   "execution_count": 5,
   "metadata": {},
   "outputs": [],
   "source": [
    "# input.shape : (5, 5)\n",
    "class DQN(nn.Module):\n",
    "    def __init__(self, env):\n",
    "        super().__init__()\n",
    "        self.network = nn.Sequential(\n",
    "            nn.Linear(in_features=env.observation_space.shape[0], out_features=512),\n",
    "            nn.ReLU(),\n",
    "            nn.Linear(in_features=512, out_features=env.action_space.n)\n",
    "        )\n",
    "\n",
    "    def forward(self, x):\n",
    "        return self.network(x)"
   ]
  },
  {
   "cell_type": "code",
   "execution_count": 6,
   "metadata": {},
   "outputs": [],
   "source": [
    "# # input.shape : (15, 15)\n",
    "# class DQN(nn.Module):\n",
    "#     def __init__(self, env):\n",
    "#         super().__init__()\n",
    "#         self.network = nn.Sequential(\n",
    "#             nn.Conv2d(in_channels=1, out_channels=16, kernel_size=3),\n",
    "#             nn.ReLU(),\n",
    "#             nn.Conv2d(in_channels=16, out_channels=32, kernel_size=3),\n",
    "#             nn.ReLU(),\n",
    "#             nn.Conv2d(in_channels=32, out_channels=64, kernel_size=3),\n",
    "#             nn.ReLU(),\n",
    "#             nn.Conv2d(in_channels=64, out_channels=64, kernel_size=3),\n",
    "#             nn.ReLU(),\n",
    "#             nn.Flatten(),\n",
    "#             nn.Linear(in_features=64*7*7, out_features=512),\n",
    "#             nn.ReLU(),\n",
    "#             nn.Linear(in_features=512, out_features=env.action_space.n)\n",
    "#         )\n",
    "\n",
    "#     def forward(self, x):\n",
    "#         return self.network(x)"
   ]
  },
  {
   "cell_type": "code",
   "execution_count": 7,
   "metadata": {},
   "outputs": [],
   "source": [
    "def linear_schedule(start_e: float, end_e:float, duration: int, t: int):\n",
    "    slope = (end_e - start_e) / duration\n",
    "    return max(slope * t + start_e, end_e)"
   ]
  },
  {
   "cell_type": "code",
   "execution_count": 8,
   "metadata": {},
   "outputs": [],
   "source": [
    "class RewardModifier(gym.RewardWrapper):\n",
    "    def __init__(self, env):\n",
    "        gym.RewardWrapper.__init__(self, env)\n",
    "\n",
    "    def reward(self, reward):\n",
    "        if reward == 0:\n",
    "            return -0.5\n",
    "        return reward * 20"
   ]
  },
  {
   "cell_type": "code",
   "execution_count": 9,
   "metadata": {},
   "outputs": [
    {
     "name": "stderr",
     "output_type": "stream",
     "text": [
      "c:\\Users\\WooSeong\\anaconda3\\envs\\snakegame\\lib\\site-packages\\gymnasium\\utils\\passive_env_checker.py:35: UserWarning: \u001b[33mWARN: A Box observation space has an unconventional shape (neither an image, nor a 1D vector). We recommend flattening the observation to have only a 1D vector or use a custom policy to properly process the data. Actual observation shape: (5, 5)\u001b[0m\n",
      "  logger.warn(\n"
     ]
    }
   ],
   "source": [
    "env = gym.make(args['env_id'], size=5, n_target=1, render_mode='rgb_array')\n",
    "env = gym.wrappers.RecordVideo(env, f\"videos/{run_name}\", \n",
    "                               episode_trigger=lambda x: x % 200 == 0,\n",
    "                               name_prefix=run_name,\n",
    "                               disable_logger=True)\n",
    "env = AddChannelDimension(env)\n",
    "env = RewardModifier(env)\n",
    "env = DivideObservation(env, 5.0)\n",
    "env = gym.wrappers.FlattenObservation(env)"
   ]
  },
  {
   "cell_type": "code",
   "execution_count": 10,
   "metadata": {},
   "outputs": [
    {
     "name": "stderr",
     "output_type": "stream",
     "text": [
      "Failed to detect the name of this notebook, you can set it manually with the WANDB_NOTEBOOK_NAME environment variable to enable code saving.\n",
      "\u001b[34m\u001b[1mwandb\u001b[0m: Currently logged in as: \u001b[33miamhelpingstar\u001b[0m. Use \u001b[1m`wandb login --relogin`\u001b[0m to force relogin\n"
     ]
    },
    {
     "data": {
      "text/html": [
       "Tracking run with wandb version 0.13.7"
      ],
      "text/plain": [
       "<IPython.core.display.HTML object>"
      ]
     },
     "metadata": {},
     "output_type": "display_data"
    },
    {
     "data": {
      "text/html": [
       "Run data is saved locally in <code>c:\\Users\\WooSeong\\RL-application\\wandb\\run-20230110_053824-1plifr3r</code>"
      ],
      "text/plain": [
       "<IPython.core.display.HTML object>"
      ]
     },
     "metadata": {},
     "output_type": "display_data"
    },
    {
     "data": {
      "text/html": [
       "Syncing run <strong><a href=\"https://wandb.ai/iamhelpingstar/dqn-Snakegame/runs/1plifr3r\" target=\"_blank\">SnakeGame-v0_42_1673296696</a></strong> to <a href=\"https://wandb.ai/iamhelpingstar/dqn-Snakegame\" target=\"_blank\">Weights & Biases</a> (<a href=\"https://wandb.me/run\" target=\"_blank\">docs</a>)<br/>"
      ],
      "text/plain": [
       "<IPython.core.display.HTML object>"
      ]
     },
     "metadata": {},
     "output_type": "display_data"
    }
   ],
   "source": [
    "# wandb.tensorboard.patch(root_logdir='runs')\n",
    "wandb.init(\n",
    "    # set the wandb project where this run will be logged\n",
    "    name=run_name,\n",
    "    project=args['wandb_project_name'],\n",
    "    entity=args['wandb_entity'],\n",
    "    # sync_tensorboard=True,\n",
    "    config=args,\n",
    "    monitor_gym=True,\n",
    "    save_code=True\n",
    ")\n",
    "\n",
    "writer = SummaryWriter(f'runs/{run_name}')\n",
    "writer.add_text(\n",
    "    \"hyperparameters\",\n",
    "    \"|param|value|\\n|-|-|\\n%s\" % (\"\\n\".join([f\"|{key}|{value}|\" for key, value in args.items()])),\n",
    ")"
   ]
  },
  {
   "cell_type": "code",
   "execution_count": 11,
   "metadata": {},
   "outputs": [
    {
     "name": "stderr",
     "output_type": "stream",
     "text": [
      "100%|██████████| 1000000/1000000 [1:11:46<00:00, 232.22it/s]\n"
     ]
    },
    {
     "data": {
      "text/html": [
       "Waiting for W&B process to finish... <strong style=\"color:green\">(success).</strong>"
      ],
      "text/plain": [
       "<IPython.core.display.HTML object>"
      ]
     },
     "metadata": {},
     "output_type": "display_data"
    },
    {
     "data": {
      "application/vnd.jupyter.widget-view+json": {
       "model_id": "8cdc5f2de33f454489d1f3f5cc02c6b9",
       "version_major": 2,
       "version_minor": 0
      },
      "text/plain": [
       "VBox(children=(Label(value='0.010 MB of 0.010 MB uploaded (0.000 MB deduped)\\r'), FloatProgress(value=1.0, max…"
      ]
     },
     "metadata": {},
     "output_type": "display_data"
    },
    {
     "data": {
      "text/html": [
       "<style>\n",
       "    table.wandb td:nth-child(1) { padding: 0 10px; text-align: left ; width: auto;} td:nth-child(2) {text-align: left ; width: 100%}\n",
       "    .wandb-row { display: flex; flex-direction: row; flex-wrap: wrap; justify-content: flex-start; width: 100% }\n",
       "    .wandb-col { display: flex; flex-direction: column; flex-basis: 100%; flex: 1; padding: 10px; }\n",
       "    </style>\n",
       "<div class=\"wandb-row\"><div class=\"wandb-col\"><h3>Run history:</h3><br/><table class=\"wandb\"><tr><td>charts/SPS</td><td>█▅▃▃▂▂▂▁▁▁▁▁▁▁▁▁▁▁▁▁▁▁▁▁▁▁▁▁▁▁▁▁▁▁▁▁▁▁▁▁</td></tr><tr><td>charts/episodic_return</td><td>▁▁▂▁▁▁▁▁▁▂▁▂▁▁▁▁▁▂▂▁▂▂▁▁▂▁▁▃▃▁▂▂▁▁▂▃▂▃▁█</td></tr><tr><td>charts/epsilon</td><td>██▇▇▇▆▆▆▅▅▄▄▄▃▃▃▂▂▂▁▁▁▁▁▁▁▁▁▁▁▁▁▁▁▁▁▁▁▁▁</td></tr><tr><td>losses/q_values</td><td>▁▁▁▂▂▃▄▅▅▆▇▇██▇▇▆▆▅▄▄▃▃▃▂▂▂▂▂▂▂▂▂▂▂▂▂▂▂▂</td></tr><tr><td>losses/td_loss</td><td>▁▁▁▁▁▂▂▃▄█▄▄▄▄▅▄▂▂▂▂▁▁▁▁▁▁▁▁▁▁▁▁▁▁▁▁▁▁▁▁</td></tr></table><br/></div><div class=\"wandb-col\"><h3>Run summary:</h3><br/><table class=\"wandb\"><tr><td>charts/SPS</td><td>232</td></tr><tr><td>charts/episodic_return</td><td>0</td></tr><tr><td>charts/epsilon</td><td>0.1</td></tr><tr><td>losses/q_values</td><td>7261.49023</td></tr><tr><td>losses/td_loss</td><td>188845.46875</td></tr></table><br/></div></div>"
      ],
      "text/plain": [
       "<IPython.core.display.HTML object>"
      ]
     },
     "metadata": {},
     "output_type": "display_data"
    },
    {
     "data": {
      "text/html": [
       "Synced <strong style=\"color:#cdcd00\">SnakeGame-v0_42_1673296696</strong>: <a href=\"https://wandb.ai/iamhelpingstar/dqn-Snakegame/runs/1plifr3r\" target=\"_blank\">https://wandb.ai/iamhelpingstar/dqn-Snakegame/runs/1plifr3r</a><br/>Synced 6 W&B file(s), 0 media file(s), 0 artifact file(s) and 1 other file(s)"
      ],
      "text/plain": [
       "<IPython.core.display.HTML object>"
      ]
     },
     "metadata": {},
     "output_type": "display_data"
    },
    {
     "data": {
      "text/html": [
       "Find logs at: <code>.\\wandb\\run-20230110_053824-1plifr3r\\logs</code>"
      ],
      "text/plain": [
       "<IPython.core.display.HTML object>"
      ]
     },
     "metadata": {},
     "output_type": "display_data"
    }
   ],
   "source": [
    "q_network = DQN(env).to(device)\n",
    "optimizer = optim.Adam(q_network.parameters(), lr=args['learning_rate'])\n",
    "target_network = DQN(env).to(device)\n",
    "target_network.load_state_dict(q_network.state_dict())\n",
    "\n",
    "rb = ReplayBuffer(\n",
    "    env.observation_space,\n",
    "    args['buffer_size'],\n",
    "    args['batch_size']\n",
    ")\n",
    "\n",
    "start_time = time.time()\n",
    "\n",
    "obs, _ = env.reset()\n",
    "score = 0\n",
    "episode_cnt = 0\n",
    "for global_step in tqdm(range(args['total_timesteps'])):\n",
    "    epsilon = linear_schedule(args['start_e'], \n",
    "                              args['end_e'], \n",
    "                              args['exploration_fraction'] * args['total_timesteps'], \n",
    "                              global_step)\n",
    "    if random.random() < epsilon:\n",
    "        action = env.action_space.sample()\n",
    "    else:\n",
    "        q_values = q_network(torch.Tensor(obs).to(device))\n",
    "        action = torch.argmax(q_values).item()\n",
    "    \n",
    "    next_obs, reward, terminate, truncate, info = env.step(action)\n",
    "    rb.store(obs, action, reward, next_obs, terminate)\n",
    "    \n",
    "    obs = next_obs\n",
    "    score += reward \n",
    "    \n",
    "    if terminate:\n",
    "        obs, _ = env.reset()\n",
    "        writer.add_scalar(\"charts/episodic_return\", score, global_step)\n",
    "        wandb.log({\"charts/episodic_return\": score}, step=global_step)\n",
    "        score = 0\n",
    "        episode_cnt += 1\n",
    "        \n",
    "    writer.add_scalar(\"charts/epsilon\", epsilon, global_step)\n",
    "    wandb.log({\"charts/epsilon\": epsilon}, step=global_step)\n",
    "    \n",
    "    if global_step > args['learning_starts']:\n",
    "        if global_step % args['train_frequency'] == 0:\n",
    "            \n",
    "            samples = rb.sample_batch()\n",
    "            states = torch.FloatTensor(samples['obs']).to(device)\n",
    "            next_states = torch.FloatTensor(samples['next_obs']).to(device)\n",
    "            actions = torch.LongTensor(samples['acts']).reshape(-1, 1).to(device)\n",
    "            rewards = torch.FloatTensor(samples['rews']).reshape(-1, 1).to(device)\n",
    "            dones = torch.FloatTensor(samples[\"done\"].reshape(-1, 1)).to(device)\n",
    "            \n",
    "            with torch.no_grad():\n",
    "                target_max, _ = target_network(next_states).max(dim=1)\n",
    "                td_target = rewards.flatten() + args['gamma'] * target_max * (1 - dones.flatten())\n",
    "            old_val = q_network(states).gather(1, actions).squeeze()\n",
    "            loss = F.mse_loss(td_target, old_val)\n",
    "            \n",
    "            if global_step % 100 == 0:\n",
    "                writer.add_scalar(\"losses/td_loss\", loss, global_step)\n",
    "                writer.add_scalar(\"losses/q_values\", old_val.mean().item(), global_step)\n",
    "                writer.add_scalar(\"charts/SPS\", int(global_step / (time.time() - start_time)), global_step)\n",
    "                \n",
    "                wandb.log({\"losses/td_loss\": loss, \"losses/q_values\": old_val.mean().item()}, step=global_step)\n",
    "                wandb.log({\"charts/SPS\" : int(global_step / (time.time() - start_time))}, step=global_step)\n",
    "            # optimize the model\n",
    "            optimizer.zero_grad()\n",
    "            loss.backward()\n",
    "            optimizer.step()\n",
    "        \n",
    "        # update the target network\n",
    "        if global_step % args['target_network_frequency'] == 0:\n",
    "            target_network.load_state_dict(q_network.state_dict())\n",
    "env.close()\n",
    "writer.close()\n",
    "wandb.finish()"
   ]
  },
  {
   "cell_type": "code",
   "execution_count": null,
   "metadata": {},
   "outputs": [],
   "source": []
  }
 ],
 "metadata": {
  "kernelspec": {
   "display_name": "snakegame",
   "language": "python",
   "name": "python3"
  },
  "language_info": {
   "codemirror_mode": {
    "name": "ipython",
    "version": 3
   },
   "file_extension": ".py",
   "mimetype": "text/x-python",
   "name": "python",
   "nbconvert_exporter": "python",
   "pygments_lexer": "ipython3",
   "version": "3.10.8"
  },
  "orig_nbformat": 4,
  "vscode": {
   "interpreter": {
    "hash": "9772b7db8ff8d7825f5f46ea659e39dc2dbd3badfd87ca0de0fc78233fcb656e"
   }
  }
 },
 "nbformat": 4,
 "nbformat_minor": 2
}
