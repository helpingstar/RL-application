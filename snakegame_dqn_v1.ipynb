{
 "cells": [
  {
   "cell_type": "code",
   "execution_count": 1,
   "metadata": {},
   "outputs": [],
   "source": [
    "from tqdm import tqdm\n",
    "import gymnasium as gym\n",
    "from gymnasium import spaces\n",
    "import gym_snakegame\n",
    "import torch\n",
    "import torch.nn as nn\n",
    "import torch.nn.functional as F\n",
    "import torch.optim as optim\n",
    "import numpy as np\n",
    "import random\n",
    "import time\n",
    "import wandb\n",
    "from torch.utils.tensorboard import SummaryWriter"
   ]
  },
  {
   "cell_type": "code",
   "execution_count": 2,
   "metadata": {},
   "outputs": [],
   "source": [
    "from util.wrappers.add_channel_dimension import AddChannelDimension\n",
    "from util.wrappers.divide_observation import DivideObservation\n",
    "from util.scheduler.linear_schedule import linear_schedule\n",
    "from util.buffer.ReplayBuffer import ReplayBuffer"
   ]
  },
  {
   "cell_type": "code",
   "execution_count": 3,
   "metadata": {},
   "outputs": [
    {
     "name": "stdout",
     "output_type": "stream",
     "text": [
      "project_path: SnakeGame-v0, device : cuda, run_name : DQN_v1_1674129327\n"
     ]
    }
   ],
   "source": [
    "args = {\n",
    "    'env_id': 'gym_snakegame/SnakeGame-v0',\n",
    "    'algorithm': 'DQN',\n",
    "    'algorithm_version': 'v1',\n",
    "    'truncated' : None,\n",
    "    'seed': 42,\n",
    "    'cuda': True,\n",
    "    'learning_rate' : 0.00025,\n",
    "    'buffer_size' : 1000000,\n",
    "    'total_timesteps' : 30000000,\n",
    "    'start_e' : 1, \n",
    "    'end_e' : 0.005, \n",
    "    'exploration_fraction' : 0.1,\n",
    "    'wandb_entity' : None,\n",
    "    'learning_starts' : 80000,\n",
    "    'train_frequency' : 1,\n",
    "    'batch_size' : 64,\n",
    "    'target_network_frequency' : 1000,\n",
    "    'gamma' : 0.99,\n",
    "    'capture_video' : False,\n",
    "    'loss_function' : 'smooth_l1_loss',\n",
    "    'grad_clipping' : 10.0,\n",
    "}\n",
    "\n",
    "project_path = args['env_id'].split('/')[-1]\n",
    "device = torch.device(\"cuda\" if torch.cuda.is_available() and args[\"cuda\"] else \"cpu\")\n",
    "run_name=f\"{args['algorithm']}_{args['algorithm_version']}_{int(time.time())}\"\n",
    "\n",
    "print(f'project_path: {project_path}, device : {device}, run_name : {run_name}')"
   ]
  },
  {
   "cell_type": "code",
   "execution_count": 4,
   "metadata": {},
   "outputs": [],
   "source": [
    "# input.shape : (15, 15)\n",
    "class QNetwork(nn.Module):\n",
    "    def __init__(self, env:gym.Env):\n",
    "        super().__init__()        \n",
    "        self.network = nn.Sequential(\n",
    "            nn.Conv2d(in_channels=1, out_channels=8, kernel_size=3, stride=1),\n",
    "            nn.ReLU(),\n",
    "            nn.Conv2d(in_channels=8, out_channels=16, kernel_size=3, stride=1),\n",
    "            nn.ReLU(),\n",
    "            nn.Conv2d(in_channels=16, out_channels=32, kernel_size=3, stride=1),\n",
    "            nn.ReLU(),\n",
    "            nn.Conv2d(in_channels=32, out_channels=64, kernel_size=3, stride=1),\n",
    "            nn.ReLU(),\n",
    "            nn.Flatten(),\n",
    "            nn.Linear(64*7*7, 512),\n",
    "            nn.ReLU(),\n",
    "            nn.Linear(512, env.action_space.n)\n",
    "        )\n",
    "\n",
    "    def forward(self, x):\n",
    "        return self.network(x)"
   ]
  },
  {
   "cell_type": "code",
   "execution_count": 5,
   "metadata": {},
   "outputs": [],
   "source": [
    "def linear_schedule(start_e: float, end_e:float, duration: int, t: int):\n",
    "    slope = (end_e - start_e) / duration\n",
    "    return max(slope * t + start_e, end_e)"
   ]
  },
  {
   "cell_type": "code",
   "execution_count": 6,
   "metadata": {},
   "outputs": [],
   "source": [
    "class RewardModifier(gym.RewardWrapper):\n",
    "    def __init__(self, env):\n",
    "        gym.RewardWrapper.__init__(self, env)\n",
    "\n",
    "    def reward(self, reward):\n",
    "        if reward == 0:\n",
    "            return -0.05\n",
    "        return reward * 20"
   ]
  },
  {
   "cell_type": "code",
   "execution_count": 7,
   "metadata": {},
   "outputs": [
    {
     "name": "stderr",
     "output_type": "stream",
     "text": [
      "/home/helpingstar/anaconda3/envs/rl/lib/python3.9/site-packages/gymnasium/utils/passive_env_checker.py:35: UserWarning: \u001b[33mWARN: A Box observation space has an unconventional shape (neither an image, nor a 1D vector). We recommend flattening the observation to have only a 1D vector or use a custom policy to properly process the data. Actual observation shape: (15, 15)\u001b[0m\n",
      "  logger.warn(\n"
     ]
    }
   ],
   "source": [
    "env = gym.make(args['env_id'], size=15, n_target=1, render_mode='rgb_array')\n",
    "env = AddChannelDimension(env)\n",
    "env = DivideObservation(env, 5.0)\n",
    "env = RewardModifier(env)\n",
    "if args['truncated']:\n",
    "    env = gym.wrappers.TimeLimit(env, args['truncated'])\n",
    "env = gym.wrappers.AutoResetWrapper(env)\n",
    "env = gym.wrappers.RecordEpisodeStatistics(env)"
   ]
  },
  {
   "cell_type": "code",
   "execution_count": 8,
   "metadata": {},
   "outputs": [
    {
     "name": "stderr",
     "output_type": "stream",
     "text": [
      "Failed to detect the name of this notebook, you can set it manually with the WANDB_NOTEBOOK_NAME environment variable to enable code saving.\n",
      "\u001b[34m\u001b[1mwandb\u001b[0m: Currently logged in as: \u001b[33miamhelpingstar\u001b[0m. Use \u001b[1m`wandb login --relogin`\u001b[0m to force relogin\n"
     ]
    },
    {
     "data": {
      "text/html": [
       "Tracking run with wandb version 0.13.9"
      ],
      "text/plain": [
       "<IPython.core.display.HTML object>"
      ]
     },
     "metadata": {},
     "output_type": "display_data"
    },
    {
     "data": {
      "text/html": [
       "Run data is saved locally in <code>/home/helpingstar/RL-application/wandb/run-20230119_205528-iel7fc0c</code>"
      ],
      "text/plain": [
       "<IPython.core.display.HTML object>"
      ]
     },
     "metadata": {},
     "output_type": "display_data"
    },
    {
     "data": {
      "text/html": [
       "Syncing run <strong><a href=\"https://wandb.ai/iamhelpingstar/SnakeGame-v0/runs/iel7fc0c\" target=\"_blank\">DQN_v1_1674129327</a></strong> to <a href=\"https://wandb.ai/iamhelpingstar/SnakeGame-v0\" target=\"_blank\">Weights & Biases</a> (<a href=\"https://wandb.me/run\" target=\"_blank\">docs</a>)<br/>"
      ],
      "text/plain": [
       "<IPython.core.display.HTML object>"
      ]
     },
     "metadata": {},
     "output_type": "display_data"
    },
    {
     "data": {
      "text/html": [
       " View project at <a href=\"https://wandb.ai/iamhelpingstar/SnakeGame-v0\" target=\"_blank\">https://wandb.ai/iamhelpingstar/SnakeGame-v0</a>"
      ],
      "text/plain": [
       "<IPython.core.display.HTML object>"
      ]
     },
     "metadata": {},
     "output_type": "display_data"
    },
    {
     "data": {
      "text/html": [
       " View run at <a href=\"https://wandb.ai/iamhelpingstar/SnakeGame-v0/runs/iel7fc0c\" target=\"_blank\">https://wandb.ai/iamhelpingstar/SnakeGame-v0/runs/iel7fc0c</a>"
      ],
      "text/plain": [
       "<IPython.core.display.HTML object>"
      ]
     },
     "metadata": {},
     "output_type": "display_data"
    }
   ],
   "source": [
    "wandb.init(\n",
    "    # set the wandb project where this run will be logged\n",
    "    name=run_name,\n",
    "    project=project_path,\n",
    "    entity=args['wandb_entity'],\n",
    "    # sync_tensorboard=True,\n",
    "    config=args,\n",
    "    monitor_gym=True,\n",
    "    save_code=True\n",
    ")\n",
    "\n",
    "writer = SummaryWriter(f'runs/{project_path}/{run_name}')\n",
    "writer.add_text(\n",
    "    \"hyperparameters\",\n",
    "    \"|param|value|\\n|-|-|\\n%s\" % (\"\\n\".join([f\"|{key}|{value}|\" for key, value in args.items()])),\n",
    ")"
   ]
  },
  {
   "cell_type": "code",
   "execution_count": 9,
   "metadata": {},
   "outputs": [
    {
     "name": "stderr",
     "output_type": "stream",
     "text": [
      "  0%|          | 128494/30000000 [04:49<18:41:07, 444.07it/s]\n"
     ]
    },
    {
     "ename": "KeyboardInterrupt",
     "evalue": "",
     "output_type": "error",
     "traceback": [
      "\u001b[0;31m---------------------------------------------------------------------------\u001b[0m",
      "\u001b[0;31mKeyboardInterrupt\u001b[0m                         Traceback (most recent call last)",
      "Cell \u001b[0;32mIn[9], line 48\u001b[0m\n\u001b[1;32m     45\u001b[0m rewards \u001b[39m=\u001b[39m torch\u001b[39m.\u001b[39mFloatTensor(samples[\u001b[39m'\u001b[39m\u001b[39mrews\u001b[39m\u001b[39m'\u001b[39m])\u001b[39m.\u001b[39mreshape(\u001b[39m-\u001b[39m\u001b[39m1\u001b[39m, \u001b[39m1\u001b[39m)\u001b[39m.\u001b[39mto(device)\n\u001b[1;32m     46\u001b[0m dones \u001b[39m=\u001b[39m torch\u001b[39m.\u001b[39mFloatTensor(samples[\u001b[39m\"\u001b[39m\u001b[39mdone\u001b[39m\u001b[39m\"\u001b[39m]\u001b[39m.\u001b[39mreshape(\u001b[39m-\u001b[39m\u001b[39m1\u001b[39m, \u001b[39m1\u001b[39m))\u001b[39m.\u001b[39mto(device)\n\u001b[0;32m---> 48\u001b[0m \u001b[39mwith\u001b[39;00m torch\u001b[39m.\u001b[39;49mno_grad():\n\u001b[1;32m     49\u001b[0m     target_max, _ \u001b[39m=\u001b[39m target_network(next_states)\u001b[39m.\u001b[39mmax(dim\u001b[39m=\u001b[39m\u001b[39m1\u001b[39m)\n\u001b[1;32m     50\u001b[0m     td_target \u001b[39m=\u001b[39m rewards\u001b[39m.\u001b[39mflatten() \u001b[39m+\u001b[39m args[\u001b[39m'\u001b[39m\u001b[39mgamma\u001b[39m\u001b[39m'\u001b[39m] \u001b[39m*\u001b[39m target_max \u001b[39m*\u001b[39m (\u001b[39m1\u001b[39m \u001b[39m-\u001b[39m dones\u001b[39m.\u001b[39mflatten())\n",
      "File \u001b[0;32m~/anaconda3/envs/rl/lib/python3.9/site-packages/torch/autograd/grad_mode.py:128\u001b[0m, in \u001b[0;36mno_grad.__init__\u001b[0;34m(self)\u001b[0m\n\u001b[1;32m    126\u001b[0m \u001b[39mdef\u001b[39;00m \u001b[39m__init__\u001b[39m(\u001b[39mself\u001b[39m) \u001b[39m-\u001b[39m\u001b[39m>\u001b[39m \u001b[39mNone\u001b[39;00m:\n\u001b[1;32m    127\u001b[0m     \u001b[39mif\u001b[39;00m \u001b[39mnot\u001b[39;00m torch\u001b[39m.\u001b[39m_jit_internal\u001b[39m.\u001b[39mis_scripting():\n\u001b[0;32m--> 128\u001b[0m         \u001b[39msuper\u001b[39;49m()\u001b[39m.\u001b[39;49m\u001b[39m__init__\u001b[39;49m()\n\u001b[1;32m    129\u001b[0m     \u001b[39mself\u001b[39m\u001b[39m.\u001b[39mprev \u001b[39m=\u001b[39m \u001b[39mFalse\u001b[39;00m\n",
      "\u001b[0;31mKeyboardInterrupt\u001b[0m: "
     ]
    }
   ],
   "source": [
    "q_network = QNetwork(env).to(device)\n",
    "optimizer = optim.Adam(q_network.parameters(), lr=args['learning_rate'])\n",
    "target_network = QNetwork(env).to(device)\n",
    "target_network.load_state_dict(q_network.state_dict())\n",
    "\n",
    "rb = ReplayBuffer(\n",
    "    env.observation_space,\n",
    "    args['buffer_size'],\n",
    "    args['batch_size']\n",
    ")\n",
    "\n",
    "start_time = time.time()\n",
    "\n",
    "obs, _ = env.reset()\n",
    "for global_step in tqdm(range(args['total_timesteps'])):\n",
    "    epsilon = linear_schedule(args['start_e'], \n",
    "                              args['end_e'], \n",
    "                              args['exploration_fraction'] * args['total_timesteps'], \n",
    "                              global_step)\n",
    "    if random.random() < epsilon:\n",
    "        action = env.action_space.sample()\n",
    "    else:\n",
    "        q_values = q_network(torch.Tensor(obs).unsqueeze(0).to(device))\n",
    "        action = torch.argmax(q_values).item()\n",
    "    \n",
    "    next_obs, reward, terminate, truncate, info = env.step(action)\n",
    "    rb.store(obs, action, reward, next_obs, terminate)\n",
    "    \n",
    "    obs = next_obs\n",
    "    \n",
    "    if 'episode' in info.keys():\n",
    "        writer.add_scalar(\"charts/episodic_return\", info['episode']['r'], global_step)\n",
    "        wandb.log({\"charts/episodic_return\": info['episode']['r']}, step=global_step)\n",
    "        \n",
    "    writer.add_scalar(\"charts/epsilon\", epsilon, global_step)\n",
    "    wandb.log({\"charts/epsilon\": epsilon}, step=global_step)\n",
    "    \n",
    "    if global_step > args['learning_starts']:\n",
    "        if global_step % args['train_frequency'] == 0:\n",
    "            \n",
    "            samples = rb.sample_batch()\n",
    "            states = torch.FloatTensor(samples['obs']).to(device)\n",
    "            next_states = torch.FloatTensor(samples['next_obs']).to(device)\n",
    "            actions = torch.LongTensor(samples['acts']).reshape(-1, 1).to(device)\n",
    "            rewards = torch.FloatTensor(samples['rews']).reshape(-1, 1).to(device)\n",
    "            dones = torch.FloatTensor(samples[\"done\"].reshape(-1, 1)).to(device)\n",
    "            \n",
    "            with torch.no_grad():\n",
    "                target_max, _ = target_network(next_states).max(dim=1)\n",
    "                td_target = rewards.flatten() + args['gamma'] * target_max * (1 - dones.flatten())\n",
    "            old_val = q_network(states).gather(1, actions).squeeze()\n",
    "            if args['loss_function'] == 'mse_loss':\n",
    "                loss = F.mse_loss(td_target, old_val)\n",
    "            else:\n",
    "                loss = F.smooth_l1_loss(td_target, old_val)\n",
    "            \n",
    "            if global_step % 100 == 0:\n",
    "                writer.add_scalar(\"losses/td_loss\", loss, global_step)\n",
    "                writer.add_scalar(\"losses/q_values\", old_val.mean().item(), global_step)\n",
    "                writer.add_scalar(\"charts/SPS\", int(global_step / (time.time() - start_time)), global_step)\n",
    "                wandb.log({\"losses/td_loss\": loss, \n",
    "                           \"losses/q_values\": old_val.mean().item(), \n",
    "                           \"charts/SPS\": int(global_step / (time.time() - start_time))}, step=global_step)\n",
    "            # optimize the model \n",
    "            optimizer.zero_grad()\n",
    "            loss.backward()  \n",
    "            optimizer.step()\n",
    "        \n",
    "        # update the target network\n",
    "        if global_step % args['target_network_frequency'] == 0:\n",
    "            target_network.load_state_dict(q_network.state_dict())\n",
    "env.close()\n",
    "writer.close()\n",
    "wandb.finish()"
   ]
  },
  {
   "cell_type": "code",
   "execution_count": null,
   "metadata": {},
   "outputs": [],
   "source": [
    "torch.save(q_network, f\"weights/{project_path}/{run_name}_q_network.pt\")\n",
    "torch.save(target_network, f\"weights/{project_path}/{run_name}_target_network.pt\")"
   ]
  }
 ],
 "metadata": {
  "kernelspec": {
   "display_name": "rl",
   "language": "python",
   "name": "python3"
  },
  "language_info": {
   "codemirror_mode": {
    "name": "ipython",
    "version": 3
   },
   "file_extension": ".py",
   "mimetype": "text/x-python",
   "name": "python",
   "nbconvert_exporter": "python",
   "pygments_lexer": "ipython3",
   "version": "3.9.15 (main, Nov 24 2022, 14:31:59) \n[GCC 11.2.0]"
  },
  "orig_nbformat": 4,
  "vscode": {
   "interpreter": {
    "hash": "fe54235a00a3c03d1c4b95494331bd2bc5c25cf5f4d0d93f67f875a40a2b44d2"
   }
  }
 },
 "nbformat": 4,
 "nbformat_minor": 2
}
