{
 "cells": [
  {
   "cell_type": "code",
   "execution_count": 1,
   "metadata": {},
   "outputs": [],
   "source": [
    "import gymnasium as gym\n",
    "import torch.nn as nn\n",
    "import wandb\n",
    "import time\n",
    "import torch\n",
    "import torch.optim as optim\n",
    "import random\n",
    "from tqdm import tqdm\n",
    "import numpy as np\n",
    "import torch.nn.functional as F\n",
    "import gym_snakegame\n",
    "from util.wrappers.add_channel_dimension import AddChannelDimension\n",
    "from torch.utils.tensorboard import SummaryWriter\n",
    "from util.buffer.ReplayBuffer import ReplayBuffer"
   ]
  },
  {
   "cell_type": "code",
   "execution_count": 2,
   "metadata": {},
   "outputs": [
    {
     "name": "stdout",
     "output_type": "stream",
     "text": [
      "cuda\n"
     ]
    }
   ],
   "source": [
    "args = {\n",
    "    'env_id': 'gym_snakegame/SnakeGame-v0',\n",
    "    'env_id_short' : 'SnakeGame-v0',\n",
    "    'seed': 42,\n",
    "    'cuda': True,\n",
    "    'learning_rate' : 0.0003,\n",
    "    'buffer_size' : 30000,\n",
    "    'total_timesteps' : 20000000,\n",
    "    'start_e' : 1, \n",
    "    'end_e' : 0.1, \n",
    "    'exploration_fraction' : 0.5,\n",
    "    'wandb_project_name' : \"dqn-Snakegame\",\n",
    "    'wandb_entity' : None,\n",
    "    'learning_starts' : 30000,\n",
    "    'train_frequency' : 1,\n",
    "    'batch_size' : 128,\n",
    "    'target_network_frequency' : 500,\n",
    "    'gamma' : 0.99,\n",
    "    'capture_video' : False\n",
    "    }\n",
    "\n",
    "device = torch.device(\"cuda\" if torch.cuda.is_available() and args[\"cuda\"] else \"cpu\")\n",
    "print(device)\n",
    "run_name=f\"{args['env_id_short']}_{args['seed']}_{int(time.time())}\""
   ]
  },
  {
   "cell_type": "code",
   "execution_count": 3,
   "metadata": {},
   "outputs": [],
   "source": [
    "# input.shape : (15, 15)\n",
    "class DQN(nn.Module):\n",
    "    def __init__(self, env):\n",
    "        super().__init__()        \n",
    "        self.conv = nn.Sequential(\n",
    "            nn.Conv2d(in_channels=1, out_channels=32, kernel_size=3, stride=1),\n",
    "            nn.ReLU(),\n",
    "            nn.Conv2d(in_channels=32, out_channels=64, kernel_size=3, stride=1),\n",
    "            nn.ReLU(),\n",
    "            nn.Conv2d(in_channels=64, out_channels=64, kernel_size=3, stride=1),\n",
    "            nn.ReLU(),\n",
    "            nn.Conv2d(in_channels=64, out_channels=64, kernel_size=3, stride=1),\n",
    "            nn.ReLU()\n",
    "        )\n",
    "\n",
    "        self.fc = nn.Sequential(\n",
    "            nn.Linear(in_features=64*7*7 , out_features=512),\n",
    "            nn.ReLU(),\n",
    "            nn.Linear(in_features=512, out_features=env.action_space.n)\n",
    "        )\n",
    "\n",
    "    def forward(self, x):\n",
    "        conv_out = self.conv(x).view(x.size()[0],-1)\n",
    "        return self.fc(conv_out)"
   ]
  },
  {
   "cell_type": "code",
   "execution_count": 4,
   "metadata": {},
   "outputs": [],
   "source": [
    "# # input.shape : (15, 15)\n",
    "# class DQN(nn.Module):\n",
    "#     def __init__(self, env):\n",
    "#         super().__init__()\n",
    "#         self.network = nn.Sequential(\n",
    "#             nn.Conv2d(in_channels=1, out_channels=16, kernel_size=3),\n",
    "#             nn.ReLU(),\n",
    "#             nn.Conv2d(in_channels=16, out_channels=32, kernel_size=3),\n",
    "#             nn.ReLU(),\n",
    "#             nn.Conv2d(in_channels=32, out_channels=64, kernel_size=3),\n",
    "#             nn.ReLU(),\n",
    "#             nn.Conv2d(in_channels=64, out_channels=64, kernel_size=3),\n",
    "#             nn.ReLU(),\n",
    "#             nn.Flatten(),\n",
    "#             nn.Linear(in_features=64*7*7, out_features=512),\n",
    "#             nn.ReLU(),\n",
    "#             nn.Linear(in_features=512, out_features=env.action_space.n)\n",
    "#         )\n",
    "\n",
    "#     def forward(self, x):\n",
    "#         return self.network(x)"
   ]
  },
  {
   "cell_type": "code",
   "execution_count": 5,
   "metadata": {},
   "outputs": [],
   "source": [
    "def linear_schedule(start_e: float, end_e:float, duration: int, t: int):\n",
    "    slope = (end_e - start_e) / duration\n",
    "    return max(slope * t + start_e, end_e)"
   ]
  },
  {
   "cell_type": "code",
   "execution_count": 6,
   "metadata": {},
   "outputs": [
    {
     "name": "stderr",
     "output_type": "stream",
     "text": [
      "c:\\Users\\WooSeong\\anaconda3\\envs\\snakegame\\lib\\site-packages\\gymnasium\\utils\\passive_env_checker.py:35: UserWarning: \u001b[33mWARN: A Box observation space has an unconventional shape (neither an image, nor a 1D vector). We recommend flattening the observation to have only a 1D vector or use a custom policy to properly process the data. Actual observation shape: (15, 15)\u001b[0m\n",
      "  logger.warn(\n"
     ]
    }
   ],
   "source": [
    "env = gym.make(args['env_id'], size=15, n_target=1, render_mode='rgb_array')\n",
    "env = gym.wrappers.RecordVideo(env, f\"videos/{run_name}\", \n",
    "                               episode_trigger=lambda x: x % 200 == 0,\n",
    "                               name_prefix=run_name,\n",
    "                               disable_logger=True)\n",
    "env = AddChannelDimension(env)"
   ]
  },
  {
   "cell_type": "code",
   "execution_count": 7,
   "metadata": {},
   "outputs": [
    {
     "name": "stderr",
     "output_type": "stream",
     "text": [
      "Failed to detect the name of this notebook, you can set it manually with the WANDB_NOTEBOOK_NAME environment variable to enable code saving.\n",
      "\u001b[34m\u001b[1mwandb\u001b[0m: Currently logged in as: \u001b[33miamhelpingstar\u001b[0m. Use \u001b[1m`wandb login --relogin`\u001b[0m to force relogin\n"
     ]
    },
    {
     "data": {
      "application/vnd.jupyter.widget-view+json": {
       "model_id": "1987e2069c1d4b298829dfa1e6ce1ecf",
       "version_major": 2,
       "version_minor": 0
      },
      "text/plain": [
       "VBox(children=(Label(value='Waiting for wandb.init()...\\r'), FloatProgress(value=0.016666666666666666, max=1.0…"
      ]
     },
     "metadata": {},
     "output_type": "display_data"
    },
    {
     "data": {
      "text/html": [
       "Tracking run with wandb version 0.13.7"
      ],
      "text/plain": [
       "<IPython.core.display.HTML object>"
      ]
     },
     "metadata": {},
     "output_type": "display_data"
    },
    {
     "data": {
      "text/html": [
       "Run data is saved locally in <code>c:\\Users\\WooSeong\\RL-application\\wandb\\run-20230108_082110-rf946m17</code>"
      ],
      "text/plain": [
       "<IPython.core.display.HTML object>"
      ]
     },
     "metadata": {},
     "output_type": "display_data"
    },
    {
     "data": {
      "text/html": [
       "Syncing run <strong><a href=\"https://wandb.ai/iamhelpingstar/dqn-Snakegame/runs/rf946m17\" target=\"_blank\">SnakeGame-v0_42_1673133659</a></strong> to <a href=\"https://wandb.ai/iamhelpingstar/dqn-Snakegame\" target=\"_blank\">Weights & Biases</a> (<a href=\"https://wandb.me/run\" target=\"_blank\">docs</a>)<br/>"
      ],
      "text/plain": [
       "<IPython.core.display.HTML object>"
      ]
     },
     "metadata": {},
     "output_type": "display_data"
    }
   ],
   "source": [
    "# wandb.tensorboard.patch(root_logdir='runs')\n",
    "wandb.init(\n",
    "    # set the wandb project where this run will be logged\n",
    "    name=run_name,\n",
    "    project=args['wandb_project_name'],\n",
    "    entity=args['wandb_entity'],\n",
    "    # sync_tensorboard=True,\n",
    "    config=args,\n",
    "    monitor_gym=True,\n",
    "    save_code=True\n",
    ")\n",
    "\n",
    "writer = SummaryWriter(f'runs/{run_name}')\n",
    "writer.add_text(\n",
    "    \"hyperparameters\",\n",
    "    \"|param|value|\\n|-|-|\\n%s\" % (\"\\n\".join([f\"|{key}|{value}|\" for key, value in args.items()])),\n",
    ")"
   ]
  },
  {
   "cell_type": "code",
   "execution_count": 8,
   "metadata": {},
   "outputs": [
    {
     "name": "stderr",
     "output_type": "stream",
     "text": [
      "  1%|          | 117185/20000000 [10:39<41:15:27, 133.87it/s]"
     ]
    }
   ],
   "source": [
    "q_network = DQN(env).to(device)\n",
    "optimizer = optim.Adam(q_network.parameters(), lr=args['learning_rate'])\n",
    "target_network = DQN(env).to(device)\n",
    "target_network.load_state_dict(q_network.state_dict())\n",
    "\n",
    "rb = ReplayBuffer(\n",
    "    env.observation_space,\n",
    "    args['buffer_size'],\n",
    "    args['batch_size']\n",
    ")\n",
    "\n",
    "start_time = time.time()\n",
    "\n",
    "obs, _ = env.reset()\n",
    "score = 0\n",
    "episode_cnt = 0\n",
    "for global_step in tqdm(range(args['total_timesteps'])):\n",
    "    epsilon = linear_schedule(args['start_e'], \n",
    "                              args['end_e'], \n",
    "                              args['exploration_fraction'] * args['total_timesteps'], \n",
    "                              global_step)\n",
    "    if random.random() < epsilon:\n",
    "        action = env.action_space.sample()\n",
    "    else:\n",
    "        q_values = q_network(torch.Tensor(obs / 5.0).to(device))\n",
    "        action = torch.argmax(q_values).item()\n",
    "    \n",
    "    next_obs, reward, terminate, truncate, info = env.step(action)\n",
    "    rb.store(obs, action, reward, next_obs, terminate)\n",
    "    \n",
    "    obs = next_obs\n",
    "    score += reward \n",
    "    \n",
    "    if terminate:\n",
    "        obs, _ = env.reset()\n",
    "        writer.add_scalar(\"charts/episodic_return\", score, global_step)\n",
    "        wandb.log({\"charts/episodic_return\": score}, step=global_step)\n",
    "        score = 0\n",
    "        episode_cnt += 1\n",
    "        \n",
    "    writer.add_scalar(\"charts/epsilon\", epsilon, global_step)\n",
    "    wandb.log({\"charts/epsilon\": epsilon}, step=global_step)\n",
    "    \n",
    "    if global_step > args['learning_starts']:\n",
    "        if global_step % args['train_frequency'] == 0:\n",
    "            \n",
    "            samples = rb.sample_batch()\n",
    "            states = torch.FloatTensor(samples['obs']).to(device)\n",
    "            next_states = torch.FloatTensor(samples['next_obs']).to(device)\n",
    "            actions = torch.LongTensor(samples['acts']).reshape(-1, 1).to(device)\n",
    "            rewards = torch.FloatTensor(samples['rews']).reshape(-1, 1).to(device)\n",
    "            dones = torch.FloatTensor(samples[\"done\"].reshape(-1, 1)).to(device)\n",
    "            \n",
    "            with torch.no_grad():\n",
    "                target_max, _ = target_network(next_states / 5.0).max(dim=1)\n",
    "                td_target = rewards.flatten() + args['gamma'] * target_max * (1 - dones.flatten())\n",
    "            old_val = q_network(states / 5.0).gather(1, actions).squeeze()\n",
    "            loss = F.mse_loss(td_target, old_val)\n",
    "            \n",
    "            if global_step % 100 == 0:\n",
    "                writer.add_scalar(\"losses/td_loss\", loss, global_step)\n",
    "                writer.add_scalar(\"losses/q_values\", old_val.mean().item(), global_step)\n",
    "                writer.add_scalar(\"charts/SPS\", int(global_step / (time.time() - start_time)), global_step)\n",
    "                \n",
    "                wandb.log({\"losses/td_loss\": loss, \"losses/q_values\": old_val.mean().item()}, step=global_step)\n",
    "                wandb.log({\"charts/SPS\" : int(global_step / (time.time() - start_time))}, step=global_step)\n",
    "            # optimize the model\n",
    "            optimizer.zero_grad()\n",
    "            loss.backward()\n",
    "            optimizer.step()\n",
    "        \n",
    "        # update the target network\n",
    "        if global_step % args['target_network_frequency'] == 0:\n",
    "            target_network.load_state_dict(q_network.state_dict())\n",
    "env.close()\n",
    "writer.close()\n",
    "wandb.finish()"
   ]
  },
  {
   "cell_type": "code",
   "execution_count": null,
   "metadata": {},
   "outputs": [],
   "source": []
  }
 ],
 "metadata": {
  "kernelspec": {
   "display_name": "snakegame",
   "language": "python",
   "name": "python3"
  },
  "language_info": {
   "codemirror_mode": {
    "name": "ipython",
    "version": 3
   },
   "file_extension": ".py",
   "mimetype": "text/x-python",
   "name": "python",
   "nbconvert_exporter": "python",
   "pygments_lexer": "ipython3",
   "version": "3.10.8"
  },
  "orig_nbformat": 4,
  "vscode": {
   "interpreter": {
    "hash": "9772b7db8ff8d7825f5f46ea659e39dc2dbd3badfd87ca0de0fc78233fcb656e"
   }
  }
 },
 "nbformat": 4,
 "nbformat_minor": 2
}
