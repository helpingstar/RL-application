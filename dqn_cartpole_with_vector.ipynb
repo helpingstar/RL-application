{
 "cells": [
  {
   "attachments": {},
   "cell_type": "markdown",
   "metadata": {},
   "source": [
    "Source\n",
    "\n",
    "* https://github.com/vwxyzjn/cleanrl/blob/master/cleanrl/dqn.py"
   ]
  },
  {
   "cell_type": "code",
   "execution_count": 1,
   "metadata": {},
   "outputs": [],
   "source": [
    "import os\n",
    "import random\n",
    "import time\n",
    "import gymnasium as gym\n",
    "import numpy as np\n",
    "import torch\n",
    "import torch.nn as nn\n",
    "import torch.nn.functional as F\n",
    "import torch.optim as optim\n",
    "import wandb\n",
    "from util.buffer.ReplayBuffer import ReplayBuffer\n",
    "from tqdm import tqdm\n",
    "from torch.utils.tensorboard import SummaryWriter"
   ]
  },
  {
   "cell_type": "code",
   "execution_count": 3,
   "metadata": {},
   "outputs": [
    {
     "name": "stdout",
     "output_type": "stream",
     "text": [
      "cpu\n"
     ]
    }
   ],
   "source": [
    "args = {\n",
    "    'env_id': 'CartPole-v1',\n",
    "    'seed': 42,\n",
    "    'cuda': True,\n",
    "    'learning_rate' : 0.0003,\n",
    "    'buffer_size' : 10000,\n",
    "    'total_timesteps' : 500000,\n",
    "    'start_e' : 1, \n",
    "    'end_e' : 0.05, \n",
    "    'exploration_fraction' : 0.5,\n",
    "    'wandb_project_name' : \"dqn-Cartpole-vector\",\n",
    "    'wandb_entity' : None,\n",
    "    'learning_starts' : 10000,\n",
    "    'train_frequency' : 10,\n",
    "    'batch_size' : 128,\n",
    "    'target_network_frequency' : 500,\n",
    "    'gamma' : 0.99,\n",
    "    'capture_video' : False,\n",
    "    }\n",
    "\n",
    "device = torch.device(\"cuda\" if torch.cuda.is_available() and args[\"cuda\"] else \"cpu\")\n",
    "print(device)\n",
    "run_name=f\"{args['env_id']}_{args['seed']}_{int(time.time())}\""
   ]
  },
  {
   "cell_type": "code",
   "execution_count": 4,
   "metadata": {},
   "outputs": [],
   "source": [
    "def make_env(env_id, seed, idx, capture_video, run_name):\n",
    "    def thunk():\n",
    "        env = gym.make(env_id)\n",
    "        env = gym.wrappers.RecordEpisodeStatistics(env)\n",
    "        if capture_video:\n",
    "            if idx == 0:\n",
    "                env = gym.wrappers.RecordVideo(env, f\"videos/{run_name}\")\n",
    "        # env.seed(seed)\n",
    "        env.action_space.seed(seed)\n",
    "        env.observation_space.seed(seed)\n",
    "        return env\n",
    "\n",
    "    return thunk"
   ]
  },
  {
   "cell_type": "code",
   "execution_count": 5,
   "metadata": {},
   "outputs": [],
   "source": [
    "class DQN(nn.Module):\n",
    "    def __init__(self, env):\n",
    "        super().__init__()\n",
    "        self.network = nn.Sequential(\n",
    "            nn.Linear(np.array(env.single_observation_space.shape).prod(), 120),\n",
    "            nn.ReLU(),\n",
    "            nn.Linear(120, 84),\n",
    "            nn.ReLU(),\n",
    "            nn.Linear(84, env.single_action_space.n),\n",
    "        )\n",
    "\n",
    "    def forward(self, x):\n",
    "        return self.network(x)"
   ]
  },
  {
   "cell_type": "code",
   "execution_count": 6,
   "metadata": {},
   "outputs": [],
   "source": [
    "def linear_schedule(start_e: float, end_e: float, duration: int, t: int):\n",
    "    slope = (end_e - start_e) / duration\n",
    "    return max(slope * t + start_e, end_e)"
   ]
  },
  {
   "cell_type": "code",
   "execution_count": 7,
   "metadata": {},
   "outputs": [],
   "source": [
    "# wandb.init(\n",
    "#     # set the wandb project where this run will be logged\n",
    "#     name=run_name,\n",
    "#     project=args['wandb_project_name'],\n",
    "#     entity=args['wandb_entity'],\n",
    "#     sync_tensorboard=True,\n",
    "#     # track hyperparameters and run metadata\n",
    "#     config=args,\n",
    "#     monitor_gym=True,\n",
    "#     save_code=True\n",
    "# )\n",
    "\n",
    "# writer = SummaryWriter(f'runs/{run_name}')\n",
    "# writer.add_text(\n",
    "#     \"hyperparameters\",\n",
    "#     \"|param|value|\\n|-|-|\\n%s\" % (\"\\n\".join([f\"|{key}|{value}|\" for key, value in args.items()])),\n",
    "# )"
   ]
  },
  {
   "cell_type": "code",
   "execution_count": 8,
   "metadata": {},
   "outputs": [],
   "source": [
    "envs = gym.vector.SyncVectorEnv([make_env(args['env_id'], args['seed'], 0, args['capture_video'], run_name) for i in range(2)])"
   ]
  },
  {
   "cell_type": "code",
   "execution_count": null,
   "metadata": {},
   "outputs": [],
   "source": [
    "q_network = DQN(envs).to(device)\n",
    "optimizer = optim.Adam(q_network.parameters(), lr=args['learning_rate'])\n",
    "target_network = DQN(envs).to(device)\n",
    "target_network.load_state_dict(q_network.state_dict())\n",
    "\n",
    "rb = ReplayBuffer(\n",
    "    envs.single_observation_space,\n",
    "    args['buffer_size'],\n",
    "    args['batch_size']\n",
    ")\n",
    "\n",
    "start_time = time.time()\n",
    "\n",
    "obs, _ = envs.reset()\n",
    "for global_step in tqdm(range(args['total_timesteps'])):\n",
    "    epsilon = linear_schedule(args['start_e'], \n",
    "                              args['end_e'], \n",
    "                              args['exploration_fraction'] * args['total_timesteps'], \n",
    "                              global_step)\n",
    "    if random.random() < epsilon:\n",
    "        actions = np.array([envs.single_action_space.sample() for _ in range(envs.num_envs)])\n",
    "    else:\n",
    "        q_values = q_network(torch.Tensor(obs).to(device))\n",
    "        actions = torch.argmax(q_values, dim=1).cpu().numpy()\n",
    "    \n",
    "    next_obs, reward, terminate, truncate, info = env.step(action)\n",
    "    rb.store(obs, action, reward, next_obs, terminate)\n",
    "    \n",
    "    obs = next_obs\n",
    "    score += reward \n",
    "    \n",
    "    if terminate:\n",
    "        obs, _ = env.reset()\n",
    "        writer.add_scalar(\"charts/episodic_return\", score, global_step)\n",
    "        wandb.log({\"charts/episodic_return\": score}, step=global_step)\n",
    "        score = 0\n",
    "        episode_cnt += 1\n",
    "        \n",
    "    writer.add_scalar(\"charts/epsilon\", epsilon, global_step)\n",
    "    wandb.log({\"charts/epsilon\": epsilon}, step=global_step)\n",
    "    \n",
    "    if global_step > args['learning_starts']:\n",
    "        if global_step % args['train_frequency'] == 0:\n",
    "            \n",
    "            samples = rb.sample_batch()\n",
    "            states = torch.FloatTensor(samples['obs']).to(device)\n",
    "            next_states = torch.FloatTensor(samples['next_obs']).to(device)\n",
    "            actions = torch.LongTensor(samples['acts']).reshape(-1, 1).to(device)\n",
    "            rewards = torch.FloatTensor(samples['rews']).reshape(-1, 1).to(device)\n",
    "            dones = torch.FloatTensor(samples[\"done\"].reshape(-1, 1)).to(device)\n",
    "            \n",
    "            with torch.no_grad():\n",
    "                target_max, _ = target_network(next_states).max(dim=1)\n",
    "                td_target = rewards.flatten() + args['gamma'] * target_max * (1 - dones.flatten())\n",
    "            old_val = q_network(states).gather(1, actions).squeeze()\n",
    "            loss = F.mse_loss(td_target, old_val)\n",
    "            \n",
    "            if global_step % 100 == 0:\n",
    "                writer.add_scalar(\"losses/td_loss\", loss, global_step)\n",
    "                writer.add_scalar(\"losses/q_values\", old_val.mean().item(), global_step)\n",
    "                writer.add_scalar(\"charts/SPS\", int(global_step / (time.time() - start_time)), global_step)\n",
    "            # optimize the model\n",
    "            optimizer.zero_grad()\n",
    "            loss.backward()\n",
    "            optimizer.step()\n",
    "        \n",
    "        # update the target network\n",
    "        if global_step % args['target_network_frequency'] == 0:\n",
    "            target_network.load_state_dict(q_network.state_dict())\n",
    "env.close()\n",
    "writer.close()\n",
    "wandb.finish()"
   ]
  },
  {
   "cell_type": "code",
   "execution_count": null,
   "metadata": {},
   "outputs": [],
   "source": []
  }
 ],
 "metadata": {
  "kernelspec": {
   "display_name": "snakegame",
   "language": "python",
   "name": "python3"
  },
  "language_info": {
   "codemirror_mode": {
    "name": "ipython",
    "version": 3
   },
   "file_extension": ".py",
   "mimetype": "text/x-python",
   "name": "python",
   "nbconvert_exporter": "python",
   "pygments_lexer": "ipython3",
   "version": "3.9.15"
  },
  "orig_nbformat": 4,
  "vscode": {
   "interpreter": {
    "hash": "9a00f39f3a9ca9c7677cd04d781c0b87317aadbe3b89cd26c4b51ffd90ae63f1"
   }
  }
 },
 "nbformat": 4,
 "nbformat_minor": 2
}
