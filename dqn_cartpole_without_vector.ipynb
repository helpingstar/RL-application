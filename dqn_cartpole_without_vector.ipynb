{
 "cells": [
  {
   "attachments": {},
   "cell_type": "markdown",
   "metadata": {},
   "source": [
    "Source\n",
    "\n",
    "* https://github.com/vwxyzjn/cleanrl/blob/master/cleanrl/dqn.py\n",
    "\n",
    "* https://github.com/Curt-Park/rainbow-is-all-you-need/blob/master/01.dqn.ipynb"
   ]
  },
  {
   "cell_type": "code",
   "execution_count": 1,
   "metadata": {},
   "outputs": [],
   "source": [
    "import gymnasium as gym\n",
    "import torch.nn as nn\n",
    "import wandb\n",
    "import time\n",
    "import torch\n",
    "import torch.optim as optim\n",
    "import random\n",
    "from tqdm import tqdm\n",
    "import numpy as np\n",
    "import torch.nn.functional as F\n",
    "from torch.utils.tensorboard import SummaryWriter\n",
    "from util.buffer.ReplayBuffer import ReplayBuffer"
   ]
  },
  {
   "cell_type": "code",
   "execution_count": 2,
   "metadata": {},
   "outputs": [
    {
     "name": "stdout",
     "output_type": "stream",
     "text": [
      "cuda\n"
     ]
    }
   ],
   "source": [
    "args = {\n",
    "    'env_id': 'CartPole-v1',\n",
    "    'seed': 42,\n",
    "    'cuda': True,\n",
    "    'learning_rate' : 0.0003,\n",
    "    'buffer_size' : 10000,\n",
    "    'total_timesteps' : 300000,\n",
    "    'start_e' : 1, \n",
    "    'end_e' : 0.05, \n",
    "    'exploration_fraction' : 0.5,\n",
    "    'wandb_project_name' : \"dqn-Cartpole\",\n",
    "    'wandb_entity' : None,\n",
    "    'learning_starts' : 10000,\n",
    "    'train_frequency' : 1,\n",
    "    'batch_size' : 128,\n",
    "    'target_network_frequency' : 500,\n",
    "    'gamma' : 0.99,\n",
    "    'capture_video' : False\n",
    "    }\n",
    "\n",
    "device = torch.device(\"cuda\" if torch.cuda.is_available() and args[\"cuda\"] else \"cpu\")\n",
    "print(device)\n",
    "run_name=f\"{args['env_id']}_{args['seed']}_{int(time.time())}\""
   ]
  },
  {
   "cell_type": "code",
   "execution_count": 3,
   "metadata": {},
   "outputs": [],
   "source": [
    "class DQN(nn.Module):\n",
    "    def __init__(self, env):\n",
    "        super().__init__()\n",
    "        self.network = nn.Sequential(\n",
    "            nn.Linear(env.observation_space.shape[0], 120),\n",
    "            nn.ReLU(),\n",
    "            nn.Linear(120, 84),\n",
    "            nn.ReLU(),\n",
    "            nn.Linear(84, env.action_space.n)\n",
    "        )\n",
    "    \n",
    "    def forward(self, x):\n",
    "        return self.network(x)"
   ]
  },
  {
   "cell_type": "code",
   "execution_count": 4,
   "metadata": {},
   "outputs": [],
   "source": [
    "def linear_schedule(start_e: float, end_e:float, duration: int, t: int):\n",
    "    slope = (end_e - start_e) / duration\n",
    "    return max(slope * t + start_e, end_e)"
   ]
  },
  {
   "cell_type": "code",
   "execution_count": 5,
   "metadata": {},
   "outputs": [],
   "source": [
    "env = gym.make(args['env_id'], render_mode='rgb_array')\n",
    "env = gym.wrappers.RecordVideo(env, f\"videos/{run_name}\", \n",
    "                               episode_trigger=lambda x: x % 200 == 0,\n",
    "                               name_prefix=run_name,\n",
    "                               disable_logger=True)"
   ]
  },
  {
   "cell_type": "code",
   "execution_count": 6,
   "metadata": {},
   "outputs": [
    {
     "name": "stderr",
     "output_type": "stream",
     "text": [
      "Failed to detect the name of this notebook, you can set it manually with the WANDB_NOTEBOOK_NAME environment variable to enable code saving.\n",
      "\u001b[34m\u001b[1mwandb\u001b[0m: Currently logged in as: \u001b[33miamhelpingstar\u001b[0m. Use \u001b[1m`wandb login --relogin`\u001b[0m to force relogin\n"
     ]
    },
    {
     "data": {
      "text/html": [
       "Tracking run with wandb version 0.13.7"
      ],
      "text/plain": [
       "<IPython.core.display.HTML object>"
      ]
     },
     "metadata": {},
     "output_type": "display_data"
    },
    {
     "data": {
      "text/html": [
       "Run data is saved locally in <code>c:\\Users\\WooSeong\\RL-application\\wandb\\run-20230107_214134-227ndmse</code>"
      ],
      "text/plain": [
       "<IPython.core.display.HTML object>"
      ]
     },
     "metadata": {},
     "output_type": "display_data"
    },
    {
     "data": {
      "text/html": [
       "Syncing run <strong><a href=\"https://wandb.ai/iamhelpingstar/dqn-Cartpole/runs/227ndmse\" target=\"_blank\">CartPole-v1_42_1673095286</a></strong> to <a href=\"https://wandb.ai/iamhelpingstar/dqn-Cartpole\" target=\"_blank\">Weights & Biases</a> (<a href=\"https://wandb.me/run\" target=\"_blank\">docs</a>)<br/>"
      ],
      "text/plain": [
       "<IPython.core.display.HTML object>"
      ]
     },
     "metadata": {},
     "output_type": "display_data"
    }
   ],
   "source": [
    "# wandb.tensorboard.patch(root_logdir='runs')\n",
    "wandb.init(\n",
    "    # set the wandb project where this run will be logged\n",
    "    name=run_name,\n",
    "    project=args['wandb_project_name'],\n",
    "    entity=args['wandb_entity'],\n",
    "    # sync_tensorboard=True,\n",
    "    config=args,\n",
    "    monitor_gym=True,\n",
    "    save_code=True\n",
    ")\n",
    "\n",
    "writer = SummaryWriter(f'runs/{run_name}')\n",
    "writer.add_text(\n",
    "    \"hyperparameters\",\n",
    "    \"|param|value|\\n|-|-|\\n%s\" % (\"\\n\".join([f\"|{key}|{value}|\" for key, value in args.items()])),\n",
    ")"
   ]
  },
  {
   "cell_type": "code",
   "execution_count": 7,
   "metadata": {},
   "outputs": [
    {
     "name": "stderr",
     "output_type": "stream",
     "text": [
      " 45%|████▍     | 133554/300000 [09:43<12:07, 228.82it/s]\n"
     ]
    },
    {
     "ename": "KeyboardInterrupt",
     "evalue": "",
     "output_type": "error",
     "traceback": [
      "\u001b[1;31m---------------------------------------------------------------------------\u001b[0m",
      "\u001b[1;31mKeyboardInterrupt\u001b[0m                         Traceback (most recent call last)",
      "Cell \u001b[1;32mIn[7], line 42\u001b[0m\n\u001b[0;32m     39\u001b[0m     episode_cnt \u001b[39m+\u001b[39m\u001b[39m=\u001b[39m \u001b[39m1\u001b[39m\n\u001b[0;32m     41\u001b[0m writer\u001b[39m.\u001b[39madd_scalar(\u001b[39m\"\u001b[39m\u001b[39mcharts/epsilon\u001b[39m\u001b[39m\"\u001b[39m, epsilon, global_step)\n\u001b[1;32m---> 42\u001b[0m wandb\u001b[39m.\u001b[39;49mlog({\u001b[39m\"\u001b[39;49m\u001b[39mcharts/epsilon\u001b[39;49m\u001b[39m\"\u001b[39;49m: epsilon}, step\u001b[39m=\u001b[39;49mglobal_step)\n\u001b[0;32m     44\u001b[0m \u001b[39mif\u001b[39;00m global_step \u001b[39m>\u001b[39m args[\u001b[39m'\u001b[39m\u001b[39mlearning_starts\u001b[39m\u001b[39m'\u001b[39m]:\n\u001b[0;32m     45\u001b[0m     \u001b[39mif\u001b[39;00m global_step \u001b[39m%\u001b[39m args[\u001b[39m'\u001b[39m\u001b[39mtrain_frequency\u001b[39m\u001b[39m'\u001b[39m] \u001b[39m==\u001b[39m \u001b[39m0\u001b[39m:\n",
      "File \u001b[1;32mc:\\Users\\WooSeong\\anaconda3\\envs\\snakegame\\lib\\site-packages\\wandb\\sdk\\wandb_run.py:292\u001b[0m, in \u001b[0;36m_run_decorator._noop.<locals>.wrapper\u001b[1;34m(self, *args, **kwargs)\u001b[0m\n\u001b[0;32m    289\u001b[0m         wandb\u001b[39m.\u001b[39mtermwarn(message, repeat\u001b[39m=\u001b[39m\u001b[39mFalse\u001b[39;00m)\n\u001b[0;32m    290\u001b[0m         \u001b[39mreturn\u001b[39;00m \u001b[39mcls\u001b[39m\u001b[39m.\u001b[39mDummy()\n\u001b[1;32m--> 292\u001b[0m \u001b[39mreturn\u001b[39;00m func(\u001b[39mself\u001b[39m, \u001b[39m*\u001b[39margs, \u001b[39m*\u001b[39m\u001b[39m*\u001b[39mkwargs)\n",
      "File \u001b[1;32mc:\\Users\\WooSeong\\anaconda3\\envs\\snakegame\\lib\\site-packages\\wandb\\sdk\\wandb_run.py:255\u001b[0m, in \u001b[0;36m_run_decorator._attach.<locals>.wrapper\u001b[1;34m(self, *args, **kwargs)\u001b[0m\n\u001b[0;32m    253\u001b[0m         \u001b[39mraise\u001b[39;00m e\n\u001b[0;32m    254\u001b[0m     \u001b[39mcls\u001b[39m\u001b[39m.\u001b[39m_is_attaching \u001b[39m=\u001b[39m \u001b[39m\"\u001b[39m\u001b[39m\"\u001b[39m\n\u001b[1;32m--> 255\u001b[0m \u001b[39mreturn\u001b[39;00m func(\u001b[39mself\u001b[39m, \u001b[39m*\u001b[39margs, \u001b[39m*\u001b[39m\u001b[39m*\u001b[39mkwargs)\n",
      "File \u001b[1;32mc:\\Users\\WooSeong\\anaconda3\\envs\\snakegame\\lib\\site-packages\\wandb\\sdk\\wandb_run.py:1612\u001b[0m, in \u001b[0;36mRun.log\u001b[1;34m(self, data, step, commit, sync)\u001b[0m\n\u001b[0;32m   1605\u001b[0m \u001b[39mif\u001b[39;00m sync \u001b[39mis\u001b[39;00m \u001b[39mnot\u001b[39;00m \u001b[39mNone\u001b[39;00m:\n\u001b[0;32m   1606\u001b[0m     deprecate\u001b[39m.\u001b[39mdeprecate(\n\u001b[0;32m   1607\u001b[0m         field_name\u001b[39m=\u001b[39mdeprecate\u001b[39m.\u001b[39mDeprecated\u001b[39m.\u001b[39mrun__log_sync,\n\u001b[0;32m   1608\u001b[0m         warning_message\u001b[39m=\u001b[39m(\n\u001b[0;32m   1609\u001b[0m             \u001b[39m\"\u001b[39m\u001b[39m`sync` argument is deprecated and does not affect the behaviour of `wandb.log`\u001b[39m\u001b[39m\"\u001b[39m\n\u001b[0;32m   1610\u001b[0m         ),\n\u001b[0;32m   1611\u001b[0m     )\n\u001b[1;32m-> 1612\u001b[0m \u001b[39mself\u001b[39;49m\u001b[39m.\u001b[39;49m_log(data\u001b[39m=\u001b[39;49mdata, step\u001b[39m=\u001b[39;49mstep, commit\u001b[39m=\u001b[39;49mcommit)\n",
      "File \u001b[1;32mc:\\Users\\WooSeong\\anaconda3\\envs\\snakegame\\lib\\site-packages\\wandb\\sdk\\wandb_run.py:1394\u001b[0m, in \u001b[0;36mRun._log\u001b[1;34m(self, data, step, commit)\u001b[0m\n\u001b[0;32m   1391\u001b[0m \u001b[39mif\u001b[39;00m \u001b[39many\u001b[39m(\u001b[39mnot\u001b[39;00m \u001b[39misinstance\u001b[39m(key, \u001b[39mstr\u001b[39m) \u001b[39mfor\u001b[39;00m key \u001b[39min\u001b[39;00m data\u001b[39m.\u001b[39mkeys()):\n\u001b[0;32m   1392\u001b[0m     \u001b[39mraise\u001b[39;00m \u001b[39mValueError\u001b[39;00m(\u001b[39m\"\u001b[39m\u001b[39mKey values passed to `wandb.log` must be strings.\u001b[39m\u001b[39m\"\u001b[39m)\n\u001b[1;32m-> 1394\u001b[0m \u001b[39mself\u001b[39;49m\u001b[39m.\u001b[39;49m_partial_history_callback(data, step, commit)\n\u001b[0;32m   1396\u001b[0m \u001b[39mif\u001b[39;00m step \u001b[39mis\u001b[39;00m \u001b[39mnot\u001b[39;00m \u001b[39mNone\u001b[39;00m:\n\u001b[0;32m   1397\u001b[0m     \u001b[39mif\u001b[39;00m os\u001b[39m.\u001b[39mgetpid() \u001b[39m!=\u001b[39m \u001b[39mself\u001b[39m\u001b[39m.\u001b[39m_init_pid \u001b[39mor\u001b[39;00m \u001b[39mself\u001b[39m\u001b[39m.\u001b[39m_is_attached:\n",
      "File \u001b[1;32mc:\\Users\\WooSeong\\anaconda3\\envs\\snakegame\\lib\\site-packages\\wandb\\sdk\\wandb_run.py:1278\u001b[0m, in \u001b[0;36mRun._partial_history_callback\u001b[1;34m(self, row, step, commit)\u001b[0m\n\u001b[0;32m   1275\u001b[0m \u001b[39mif\u001b[39;00m \u001b[39mself\u001b[39m\u001b[39m.\u001b[39m_backend \u001b[39mand\u001b[39;00m \u001b[39mself\u001b[39m\u001b[39m.\u001b[39m_backend\u001b[39m.\u001b[39minterface:\n\u001b[0;32m   1276\u001b[0m     not_using_tensorboard \u001b[39m=\u001b[39m \u001b[39mlen\u001b[39m(wandb\u001b[39m.\u001b[39mpatched[\u001b[39m\"\u001b[39m\u001b[39mtensorboard\u001b[39m\u001b[39m\"\u001b[39m]) \u001b[39m==\u001b[39m \u001b[39m0\u001b[39m\n\u001b[1;32m-> 1278\u001b[0m     \u001b[39mself\u001b[39;49m\u001b[39m.\u001b[39;49m_backend\u001b[39m.\u001b[39;49minterface\u001b[39m.\u001b[39;49mpublish_partial_history(\n\u001b[0;32m   1279\u001b[0m         row,\n\u001b[0;32m   1280\u001b[0m         user_step\u001b[39m=\u001b[39;49m\u001b[39mself\u001b[39;49m\u001b[39m.\u001b[39;49m_step,\n\u001b[0;32m   1281\u001b[0m         step\u001b[39m=\u001b[39;49mstep,\n\u001b[0;32m   1282\u001b[0m         flush\u001b[39m=\u001b[39;49mcommit,\n\u001b[0;32m   1283\u001b[0m         publish_step\u001b[39m=\u001b[39;49mnot_using_tensorboard,\n\u001b[0;32m   1284\u001b[0m     )\n",
      "File \u001b[1;32mc:\\Users\\WooSeong\\anaconda3\\envs\\snakegame\\lib\\site-packages\\wandb\\sdk\\interface\\interface.py:562\u001b[0m, in \u001b[0;36mInterfaceBase.publish_partial_history\u001b[1;34m(self, data, user_step, step, flush, publish_step, run)\u001b[0m\n\u001b[0;32m    560\u001b[0m \u001b[39mif\u001b[39;00m flush \u001b[39mis\u001b[39;00m \u001b[39mnot\u001b[39;00m \u001b[39mNone\u001b[39;00m:\n\u001b[0;32m    561\u001b[0m     partial_history\u001b[39m.\u001b[39maction\u001b[39m.\u001b[39mflush \u001b[39m=\u001b[39m flush\n\u001b[1;32m--> 562\u001b[0m \u001b[39mself\u001b[39;49m\u001b[39m.\u001b[39;49m_publish_partial_history(partial_history)\n",
      "File \u001b[1;32mc:\\Users\\WooSeong\\anaconda3\\envs\\snakegame\\lib\\site-packages\\wandb\\sdk\\interface\\interface_shared.py:85\u001b[0m, in \u001b[0;36mInterfaceShared._publish_partial_history\u001b[1;34m(self, partial_history)\u001b[0m\n\u001b[0;32m     81\u001b[0m \u001b[39mdef\u001b[39;00m \u001b[39m_publish_partial_history\u001b[39m(\n\u001b[0;32m     82\u001b[0m     \u001b[39mself\u001b[39m, partial_history: pb\u001b[39m.\u001b[39mPartialHistoryRequest\n\u001b[0;32m     83\u001b[0m ) \u001b[39m-\u001b[39m\u001b[39m>\u001b[39m \u001b[39mNone\u001b[39;00m:\n\u001b[0;32m     84\u001b[0m     rec \u001b[39m=\u001b[39m \u001b[39mself\u001b[39m\u001b[39m.\u001b[39m_make_request(partial_history\u001b[39m=\u001b[39mpartial_history)\n\u001b[1;32m---> 85\u001b[0m     \u001b[39mself\u001b[39;49m\u001b[39m.\u001b[39;49m_publish(rec)\n",
      "File \u001b[1;32mc:\\Users\\WooSeong\\anaconda3\\envs\\snakegame\\lib\\site-packages\\wandb\\sdk\\interface\\interface_sock.py:51\u001b[0m, in \u001b[0;36mInterfaceSock._publish\u001b[1;34m(self, record, local)\u001b[0m\n\u001b[0;32m     49\u001b[0m \u001b[39mdef\u001b[39;00m \u001b[39m_publish\u001b[39m(\u001b[39mself\u001b[39m, record: \u001b[39m\"\u001b[39m\u001b[39mpb.Record\u001b[39m\u001b[39m\"\u001b[39m, local: Optional[\u001b[39mbool\u001b[39m] \u001b[39m=\u001b[39m \u001b[39mNone\u001b[39;00m) \u001b[39m-\u001b[39m\u001b[39m>\u001b[39m \u001b[39mNone\u001b[39;00m:\n\u001b[0;32m     50\u001b[0m     \u001b[39mself\u001b[39m\u001b[39m.\u001b[39m_assign(record)\n\u001b[1;32m---> 51\u001b[0m     \u001b[39mself\u001b[39;49m\u001b[39m.\u001b[39;49m_sock_client\u001b[39m.\u001b[39;49msend_record_publish(record)\n",
      "File \u001b[1;32mc:\\Users\\WooSeong\\anaconda3\\envs\\snakegame\\lib\\site-packages\\wandb\\sdk\\lib\\sock_client.py:221\u001b[0m, in \u001b[0;36mSockClient.send_record_publish\u001b[1;34m(self, record)\u001b[0m\n\u001b[0;32m    219\u001b[0m server_req \u001b[39m=\u001b[39m spb\u001b[39m.\u001b[39mServerRequest()\n\u001b[0;32m    220\u001b[0m server_req\u001b[39m.\u001b[39mrecord_publish\u001b[39m.\u001b[39mCopyFrom(record)\n\u001b[1;32m--> 221\u001b[0m \u001b[39mself\u001b[39;49m\u001b[39m.\u001b[39;49msend_server_request(server_req)\n",
      "File \u001b[1;32mc:\\Users\\WooSeong\\anaconda3\\envs\\snakegame\\lib\\site-packages\\wandb\\sdk\\lib\\sock_client.py:155\u001b[0m, in \u001b[0;36mSockClient.send_server_request\u001b[1;34m(self, msg)\u001b[0m\n\u001b[0;32m    154\u001b[0m \u001b[39mdef\u001b[39;00m \u001b[39msend_server_request\u001b[39m(\u001b[39mself\u001b[39m, msg: Any) \u001b[39m-\u001b[39m\u001b[39m>\u001b[39m \u001b[39mNone\u001b[39;00m:\n\u001b[1;32m--> 155\u001b[0m     \u001b[39mself\u001b[39;49m\u001b[39m.\u001b[39;49m_send_message(msg)\n",
      "File \u001b[1;32mc:\\Users\\WooSeong\\anaconda3\\envs\\snakegame\\lib\\site-packages\\wandb\\sdk\\lib\\sock_client.py:152\u001b[0m, in \u001b[0;36mSockClient._send_message\u001b[1;34m(self, msg)\u001b[0m\n\u001b[0;32m    150\u001b[0m header \u001b[39m=\u001b[39m struct\u001b[39m.\u001b[39mpack(\u001b[39m\"\u001b[39m\u001b[39m<BI\u001b[39m\u001b[39m\"\u001b[39m, \u001b[39mord\u001b[39m(\u001b[39m\"\u001b[39m\u001b[39mW\u001b[39m\u001b[39m\"\u001b[39m), raw_size)\n\u001b[0;32m    151\u001b[0m \u001b[39mwith\u001b[39;00m \u001b[39mself\u001b[39m\u001b[39m.\u001b[39m_lock:\n\u001b[1;32m--> 152\u001b[0m     \u001b[39mself\u001b[39;49m\u001b[39m.\u001b[39;49m_sendall_with_error_handle(header \u001b[39m+\u001b[39;49m data)\n",
      "File \u001b[1;32mc:\\Users\\WooSeong\\anaconda3\\envs\\snakegame\\lib\\site-packages\\wandb\\sdk\\lib\\sock_client.py:130\u001b[0m, in \u001b[0;36mSockClient._sendall_with_error_handle\u001b[1;34m(self, data)\u001b[0m\n\u001b[0;32m    128\u001b[0m start_time \u001b[39m=\u001b[39m time\u001b[39m.\u001b[39mmonotonic()\n\u001b[0;32m    129\u001b[0m \u001b[39mtry\u001b[39;00m:\n\u001b[1;32m--> 130\u001b[0m     sent \u001b[39m=\u001b[39m \u001b[39mself\u001b[39;49m\u001b[39m.\u001b[39;49m_sock\u001b[39m.\u001b[39;49msend(data)\n\u001b[0;32m    131\u001b[0m     \u001b[39m# sent equal to 0 indicates a closed socket\u001b[39;00m\n\u001b[0;32m    132\u001b[0m     \u001b[39mif\u001b[39;00m sent \u001b[39m==\u001b[39m \u001b[39m0\u001b[39m:\n",
      "\u001b[1;31mKeyboardInterrupt\u001b[0m: "
     ]
    }
   ],
   "source": [
    "q_network = DQN(env).to(device)\n",
    "optimizer = optim.Adam(q_network.parameters(), lr=args['learning_rate'])\n",
    "target_network = DQN(env).to(device)\n",
    "target_network.load_state_dict(q_network.state_dict())\n",
    "\n",
    "rb = ReplayBuffer(\n",
    "    env.observation_space,\n",
    "    args['buffer_size'],\n",
    "    args['batch_size']\n",
    ")\n",
    "\n",
    "start_time = time.time()\n",
    "\n",
    "obs, _ = env.reset()\n",
    "score = 0\n",
    "episode_cnt = 0\n",
    "for global_step in tqdm(range(args['total_timesteps'])):\n",
    "    epsilon = linear_schedule(args['start_e'], \n",
    "                              args['end_e'], \n",
    "                              args['exploration_fraction'] * args['total_timesteps'], \n",
    "                              global_step)\n",
    "    if random.random() < epsilon:\n",
    "        action = env.action_space.sample()\n",
    "    else:\n",
    "        q_values = q_network(torch.Tensor(obs).to(device))\n",
    "        action = torch.argmax(q_values).item()\n",
    "    \n",
    "    next_obs, reward, terminate, truncate, info = env.step(action)\n",
    "    rb.store(obs, action, reward, next_obs, terminate)\n",
    "    \n",
    "    obs = next_obs\n",
    "    score += reward \n",
    "    \n",
    "    if terminate:\n",
    "        obs, _ = env.reset()\n",
    "        writer.add_scalar(\"charts/episodic_return\", score, global_step)\n",
    "        wandb.log({\"charts/episodic_return\": score}, step=global_step)\n",
    "        score = 0\n",
    "        episode_cnt += 1\n",
    "        \n",
    "    writer.add_scalar(\"charts/epsilon\", epsilon, global_step)\n",
    "    wandb.log({\"charts/epsilon\": epsilon}, step=global_step)\n",
    "    \n",
    "    if global_step > args['learning_starts']:\n",
    "        if global_step % args['train_frequency'] == 0:\n",
    "            \n",
    "            samples = rb.sample_batch()\n",
    "            states = torch.FloatTensor(samples['obs']).to(device)\n",
    "            next_states = torch.FloatTensor(samples['next_obs']).to(device)\n",
    "            actions = torch.LongTensor(samples['acts']).reshape(-1, 1).to(device)\n",
    "            rewards = torch.FloatTensor(samples['rews']).reshape(-1, 1).to(device)\n",
    "            dones = torch.FloatTensor(samples[\"done\"].reshape(-1, 1)).to(device)\n",
    "            \n",
    "            with torch.no_grad():\n",
    "                target_max, _ = target_network(next_states).max(dim=1)\n",
    "                td_target = rewards.flatten() + args['gamma'] * target_max * (1 - dones.flatten())\n",
    "            old_val = q_network(states).gather(1, actions).squeeze()\n",
    "            loss = F.mse_loss(td_target, old_val)\n",
    "            \n",
    "            if global_step % 100 == 0:\n",
    "                writer.add_scalar(\"losses/td_loss\", loss, global_step)\n",
    "                writer.add_scalar(\"losses/q_values\", old_val.mean().item(), global_step)\n",
    "                writer.add_scalar(\"charts/SPS\", int(global_step / (time.time() - start_time)), global_step)\n",
    "            # optimize the model\n",
    "            optimizer.zero_grad()\n",
    "            loss.backward()\n",
    "            optimizer.step()\n",
    "        \n",
    "        # update the target network\n",
    "        if global_step % args['target_network_frequency'] == 0:\n",
    "            target_network.load_state_dict(q_network.state_dict())\n",
    "env.close()\n",
    "writer.close()\n",
    "wandb.finish()"
   ]
  },
  {
   "cell_type": "code",
   "execution_count": null,
   "metadata": {},
   "outputs": [],
   "source": []
  }
 ],
 "metadata": {
  "kernelspec": {
   "display_name": "snakegame",
   "language": "python",
   "name": "python3"
  },
  "language_info": {
   "codemirror_mode": {
    "name": "ipython",
    "version": 3
   },
   "file_extension": ".py",
   "mimetype": "text/x-python",
   "name": "python",
   "nbconvert_exporter": "python",
   "pygments_lexer": "ipython3",
   "version": "3.10.8"
  },
  "orig_nbformat": 4,
  "vscode": {
   "interpreter": {
    "hash": "9772b7db8ff8d7825f5f46ea659e39dc2dbd3badfd87ca0de0fc78233fcb656e"
   }
  }
 },
 "nbformat": 4,
 "nbformat_minor": 2
}
